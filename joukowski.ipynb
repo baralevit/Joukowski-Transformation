{
  "nbformat": 4,
  "nbformat_minor": 0,
  "metadata": {
    "colab": {
      "name": "joukowski.ipynb",
      "provenance": [],
      "collapsed_sections": []
    },
    "kernelspec": {
      "name": "python3",
      "display_name": "Python 3"
    },
    "language_info": {
      "name": "python"
    }
  },
  "cells": [
    {
      "cell_type": "code",
      "metadata": {
        "id": "qbpPFAaK8lMc"
      },
      "source": [
        "#import libraries\n",
        "\n",
        "import numpy as np\n",
        "import numpy.ma as ma\n",
        "import matplotlib.pyplot as plt\n",
        "import matplotlib.lines as mlines\n",
        "%matplotlib inline"
      ],
      "execution_count": 1,
      "outputs": []
    },
    {
      "cell_type": "code",
      "metadata": {
        "id": "q9-nraIJOLfn"
      },
      "source": [
        "def joukowski(center_x,center_y, radius_circle,a):\n",
        "  \"\"\"\n",
        "  joukowski takes the center and radius of a circle and maps it according to the Joukowski transformation. \n",
        "\n",
        "  center_x : x value of the center of the circle\n",
        "  center_y : y value of the center of the circle\n",
        "  radius_circle : radius of the circle\n",
        "  a : parameter of the joukowski transformation\n",
        "\n",
        "  return plot of the circle and the Joukowski transformation, additionally displays the non-conformal points and the center of the circle\n",
        "  \"\"\" \n",
        "\n",
        "\n",
        "\n",
        "\n",
        "  #initialize the variables we will be using\n",
        "\n",
        "  #the angles from 0 to 2pi\n",
        "  range_angles=np.linspace(0,2*np.pi, 10000, endpoint=False)\n",
        "  len_vector = len(range_angles)\n",
        "\n",
        "  #x and y values on the circle\n",
        "  x_values = np.zeros(len_vector)\n",
        "  y_values = np.zeros(len_vector)\n",
        "\n",
        "  #cos(theta), cos(sin), and radius value relative to the origin\n",
        "  theta_cos_values=np.zeros(len_vector)\n",
        "  theta_sin_values=np.zeros(len_vector)\n",
        "  radius_values=np.zeros(len_vector)\n",
        "\n",
        "  #x and y values of the Joukowski transformation\n",
        "  jouk_x_values = np.zeros(len_vector)\n",
        "  jouk_y_values = np.zeros(len_vector)\n",
        "\n",
        "\n",
        "  #calculations \n",
        "  for i in range(len(range_angles)):\n",
        "    # find x,y,cos(theta), sin(theta) and the radius w.r.t the origin \n",
        "    x_values[i] = center_x+radius_circle*np.cos(range_angles[i])\n",
        "    y_values[i]=center_y+radius_circle*np.sin(range_angles[i])\n",
        "    radius_values[i]=np.sqrt(x_values[i]**2 + y_values[i]**2)\n",
        "    theta_cos_values[i]= x_values[i]/radius_values[i]\n",
        "    theta_sin_values[i]=y_values[i]/radius_values[i]\n",
        "\n",
        "    # find the x and y values of the Joukowski transformation\n",
        "    jouk_x_values[i] = radius_values[i]*theta_cos_values[i]+(a/radius_values[i])*theta_cos_values[i]\n",
        "    jouk_y_values[i]=radius_values[i]*theta_sin_values[i]-(a/radius_values[i])*theta_sin_values[i]\n",
        "\n",
        "\n",
        "  \n",
        "  \n",
        "  #plot \n",
        "\n",
        "  fig = plt.figure()\n",
        "  ax = fig.add_subplot(1, 1, 1)\n",
        "\n",
        "  #customize the axes\n",
        "  ax.spines['left'].set_position('zero')\n",
        "  ax.spines['bottom'].set_position('zero')\n",
        "  ax.spines['right'].set_color('none')\n",
        "  ax.spines['top'].set_color('none')\n",
        "\n",
        "  #title of the graph\n",
        "  title_plot = f\"Cicle of radius {radius_circle} centered at ({center_x}, {center_y})\"\n",
        "  plt.title(title_plot)\n",
        "\n",
        "  #plot the circle, the Joukowski transformation, the non-conformal points, and the center of the circle\n",
        "  plt.plot(x_values,y_values, 'b.', markersize=0.1,label ='circle') \n",
        "  plt.plot(jouk_x_values,jouk_y_values, 'r.', markersize=0.3, label ='Joukowski transformation')\n",
        "  plt.plot([np.sqrt(a),-np.sqrt(a)], [0,0], '*', color = '#74ff3c', markersize=10, label ='not conformal' ) \n",
        "  plt.plot(center_x, center_y, 'o', color = '#ff3cf7', markersize=5, label ='circle center')  \n",
        "\n",
        "  #define handles for the legend  \n",
        "  blue_circle= mlines.Line2D([], [], color='blue', marker='.', linestyle='None',\n",
        "                          markersize=10, label='circle')\n",
        "  red_circle = mlines.Line2D([], [], color='red', marker='.', linestyle='None',\n",
        "                          markersize=10, label='Joukowski transformation')\n",
        "  green_star = mlines.Line2D([], [], color='#74ff3c', marker='*', linestyle='None',\n",
        "                          markersize=10, label='not conformal')\n",
        "  pink_circle = mlines.Line2D([], [], color='#ff3cf7', marker='.', linestyle='None',\n",
        "                          markersize=10, label='circle center')\n",
        "\n",
        "  #plot the legend\n",
        "  plt.legend(handles=[blue_circle, red_circle, green_star, pink_circle], bbox_to_anchor =(1.55, 1.15))\n",
        "\n",
        "\n",
        "  #remove the (0,0) point in the y axis\n",
        "  plt.draw()\n",
        "\n",
        "  origin=\"0.0\"\n",
        "  for n, label in enumerate(ax.yaxis.get_ticklabels()):\n",
        "    if(origin==label.get_text()):\n",
        "      label.set_visible(False)\n",
        "\n",
        "  fig.canvas.draw_idle()\n",
        "\n",
        "\n"
      ],
      "execution_count": 42,
      "outputs": []
    },
    {
      "cell_type": "code",
      "metadata": {
        "id": "5G5HBEE8G5Ke",
        "colab": {
          "base_uri": "https://localhost:8080/",
          "height": 276
        },
        "outputId": "cabba7d8-9b58-497b-b059-ee772bfc902c"
      },
      "source": [
        "#define the center and radius of the circle\n",
        "\n",
        "center_x=0\n",
        "center_y=0\n",
        "radius_circle=1\n",
        "\n",
        "\n",
        "#define a in the Joukowski transformation:\n",
        "a=1\n",
        "\n",
        "\n",
        "#call the function\n",
        "joukowski(center_x, center_y, radius_circle, a)\n"
      ],
      "execution_count": 43,
      "outputs": [
        {
          "output_type": "display_data",
          "data": {
            "image/png": "[encoded data removed]",
            "text/plain": [
              "<Figure size 432x288 with 1 Axes>"
            ]
          },
          "metadata": {
            "tags": [],
            "needs_background": "light"
          }
        }
      ]
    },
    {
      "cell_type": "code",
      "metadata": {
        "id": "cP4RIA-z7hP7"
      },
      "source": [
        ""
      ],
      "execution_count": null,
      "outputs": []
    }
  ]
}